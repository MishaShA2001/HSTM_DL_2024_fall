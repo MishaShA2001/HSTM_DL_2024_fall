{
 "cells": [
  {
   "cell_type": "code",
   "execution_count": 2,
   "metadata": {
    "colab": {
     "base_uri": "https://localhost:8080/"
    },
    "id": "AgpkW_jHoZxa",
    "outputId": "8b765297-3901-49b4-ea15-de8919f56bf2"
   },
   "outputs": [
    {
     "name": "stdout",
     "output_type": "stream",
     "text": [
      "Drive already mounted at /content/drive; to attempt to forcibly remount, call drive.mount(\"/content/drive\", force_remount=True).\n"
     ]
    }
   ],
   "source": [
    "from google.colab import drive\n",
    "drive.mount('/content/drive')"
   ]
  },
  {
   "cell_type": "code",
   "execution_count": 3,
   "metadata": {
    "id": "M8wF8SHzrz9B"
   },
   "outputs": [],
   "source": [
    "from typing import Any\n",
    "\n",
    "import numpy as np\n",
    "import pandas as pd\n",
    "import torch\n",
    "import torch.nn as nn\n",
    "import torch.optim as optim\n",
    "from sklearn.metrics import accuracy_score, confusion_matrix\n",
    "from sklearn.preprocessing import StandardScaler"
   ]
  },
  {
   "cell_type": "code",
   "execution_count": 4,
   "metadata": {
    "id": "rKODWsji2-aC"
   },
   "outputs": [],
   "source": [
    "class MLP(nn.Module):\n",
    "    \"\"\"Our Multilayer Perceptron\"\"\"\n",
    "\n",
    "    def __init__(self) -> None:\n",
    "        super().__init__()\n",
    "\n",
    "        self.fc1 = nn.Linear(360, 90)\n",
    "        self.fc2 = nn.Linear(90, 90)\n",
    "        self.fc3 = nn.Linear(90, 3)\n",
    "\n",
    "    def forward(self, x):\n",
    "        x = torch.relu(self.fc1(x))\n",
    "        x = torch.relu(self.fc2(x))\n",
    "        x = self.fc3(x)\n",
    "\n",
    "        return x"
   ]
  },
  {
   "cell_type": "code",
   "execution_count": 5,
   "metadata": {
    "id": "61Din0h0r54A"
   },
   "outputs": [],
   "source": [
    "def load_data(train_csv: str, val_csv: str,\n",
    "              test_csv: str) -> tuple[torch.Tensor, torch.Tensor, torch.Tensor,\n",
    "                                      torch.Tensor, torch.Tensor]:\n",
    "    \"\"\"\n",
    "    :param train_csv:\n",
    "    :param val_csv:\n",
    "    :param test_csv:\n",
    "    :return:\n",
    "    \"\"\"\n",
    "    train_data = pd.read_csv(train_csv)\n",
    "    val_data = pd.read_csv(val_csv)\n",
    "    test_data = pd.read_csv(test_csv)\n",
    "\n",
    "    # Take only features we need\n",
    "    X_train = train_data.drop(['order0', 'order1', 'order2'], axis=1).values\n",
    "    y_train = train_data['order0'].values\n",
    "\n",
    "    X_val = val_data.drop(['order0', 'order1', 'order2'], axis=1).values\n",
    "    y_val = val_data['order0'].values\n",
    "\n",
    "    X_test = test_data.values\n",
    "\n",
    "    # Normalization\n",
    "    scaler = StandardScaler()\n",
    "    X_train = scaler.fit_transform(X_train)\n",
    "    X_val = scaler.transform(X_val)\n",
    "    X_test = scaler.transform(X_test)\n",
    "\n",
    "    X_train = torch.tensor(X_train, dtype=torch.float32)\n",
    "    y_train = torch.tensor(y_train, dtype=torch.int64)\n",
    "    X_val = torch.tensor(X_val, dtype=torch.float32)\n",
    "    y_val = torch.tensor(y_val, dtype=torch.int64)\n",
    "    X_test = torch.tensor(X_test, dtype=torch.float32)\n",
    "\n",
    "    return X_train, y_train, X_val, y_val, X_test"
   ]
  },
  {
   "cell_type": "code",
   "execution_count": 6,
   "metadata": {
    "id": "NUFPNs4Qw-lC"
   },
   "outputs": [],
   "source": [
    "def init_model(lr: float) -> tuple[MLP, nn.modules.loss.CrossEntropyLoss,\n",
    "                                   optim.Adam]:\n",
    "    \"\"\"\n",
    "    :return:\n",
    "    \"\"\"\n",
    "    model = MLP()\n",
    "    criterion = nn.CrossEntropyLoss()\n",
    "    optimizer = optim.Adam(model.parameters(), lr=lr)\n",
    "\n",
    "    return model, criterion, optimizer"
   ]
  },
  {
   "cell_type": "code",
   "execution_count": 7,
   "metadata": {
    "id": "xia1oAJ74ra6"
   },
   "outputs": [],
   "source": [
    "def evaluate(model: MLP, X: pd.DataFrame,\n",
    "             y: pd.Series) -> tuple[torch.Tensor, float, np.ndarray]:\n",
    "    \"\"\"\n",
    "    :param model:\n",
    "    :param X:\n",
    "    :param y:\n",
    "    :return:\n",
    "    \"\"\"\n",
    "    model.eval()\n",
    "\n",
    "    with torch.no_grad():\n",
    "        predictions = model(X).argmax(dim=1)\n",
    "        accuracy = accuracy_score(y, predictions)\n",
    "        conf_matrix = confusion_matrix(y, predictions)\n",
    "\n",
    "    return predictions, accuracy, conf_matrix"
   ]
  },
  {
   "cell_type": "code",
   "execution_count": 12,
   "metadata": {
    "id": "C2UvgSxrC9BU"
   },
   "outputs": [],
   "source": [
    "def train(model: MLP, criterion: nn.modules.loss.CrossEntropyLoss,\n",
    "          optimizer: optim.Adam, X_train: torch.Tensor, y_train: torch.Tensor,\n",
    "          X_val: torch.Tensor, y_val: torch.Tensor, epochs: int,\n",
    "          batch_size: int):\n",
    "    \"\"\"\n",
    "    :param model:\n",
    "    :param criterion:\n",
    "    :param optimizer:\n",
    "    :param X_train:\n",
    "    :param y_train:\n",
    "    :param X_val:\n",
    "    :param y_val:\n",
    "    :param epochs:\n",
    "    :param batch_size:\n",
    "    :return:\n",
    "    \"\"\"\n",
    "    for epoch in range(epochs):\n",
    "        model.train()\n",
    "        train_loss = 0\n",
    "        for i in range(0, X_train.size(0), batch_size):\n",
    "            optimizer.zero_grad()\n",
    "            X_batch = X_train[i:i + batch_size]\n",
    "            y_batch = y_train[i:i + batch_size]\n",
    "\n",
    "            outputs = model(X_batch).squeeze()\n",
    "            loss = criterion(outputs, y_batch.view(-1))\n",
    "            loss.backward()\n",
    "            optimizer.step()\n",
    "\n",
    "            # print(f'\\t Train: Epoch {epoch}, train Loss: {train_loss}')\n",
    "\n",
    "            train_loss += loss.item()\n",
    "\n",
    "        train_loss /= X_train.size(0)\n",
    "\n",
    "        predictions, val_accuracy, conf_matrix = evaluate(model, X_val, y_val)\n",
    "        print(f'Train: Epoch {epoch + 1}, val accuracy: {val_accuracy}')\n",
    "\n",
    "    return model"
   ]
  },
  {
   "cell_type": "code",
   "execution_count": 9,
   "metadata": {
    "id": "ruOMGV-UHzYd"
   },
   "outputs": [],
   "source": [
    "def main(**kwargs: Any) -> None:\n",
    "    \"\"\"\n",
    "    :param kwargs:\n",
    "    \"\"\"\n",
    "    # Load data\n",
    "    X_train, y_train, X_val, y_val, X_test = load_data(\n",
    "        kwargs['train_csv'], kwargs['val_csv'], kwargs['test_csv'])\n",
    "\n",
    "    # Initialize model\n",
    "    model, criterion, optimizer = init_model(kwargs['lr'])\n",
    "\n",
    "    # Train model\n",
    "    model = train(\n",
    "        model, criterion, optimizer,\n",
    "        X_train, y_train, X_val, y_val,\n",
    "        kwargs['num_epoches'], kwargs['batch_size']\n",
    "    )\n",
    "\n",
    "    # Predict on test set\n",
    "    model.eval()\n",
    "    with torch.no_grad():\n",
    "        outputs = model(X_test)\n",
    "        predictions = outputs.argmax(dim=1)\n",
    "\n",
    "    # dump predictions to 'submission.csv'\n",
    "    pd.DataFrame(predictions).to_csv(kwargs['out_csv'])"
   ]
  },
  {
   "cell_type": "code",
   "execution_count": 14,
   "metadata": {
    "colab": {
     "base_uri": "https://localhost:8080/"
    },
    "id": "J_pZb2dn3y6T",
    "outputId": "d259155f-2407-4b4a-8ecb-959b5813eb9d"
   },
   "outputs": [
    {
     "name": "stdout",
     "output_type": "stream",
     "text": [
      "Train: Epoch 1, val accuracy: 0.754244749088165\n",
      "Train: Epoch 2, val accuracy: 0.7727329895610615\n",
      "Train: Epoch 3, val accuracy: 0.7902150672871336\n",
      "Train: Epoch 4, val accuracy: 0.8141114325242108\n",
      "Train: Epoch 5, val accuracy: 0.8203999496918627\n",
      "Train: Epoch 6, val accuracy: 0.8293296440699283\n",
      "Train: Epoch 7, val accuracy: 0.8439190038988806\n",
      "Train: Epoch 8, val accuracy: 0.8492013583197082\n",
      "Train: Epoch 9, val accuracy: 0.8445478556156458\n",
      "Train: Epoch 10, val accuracy: 0.8412778266884668\n",
      "Train: Epoch 11, val accuracy: 0.8520940762168281\n",
      "Train: Epoch 12, val accuracy: 0.8607722299081877\n",
      "Train: Epoch 13, val accuracy: 0.8547352534272419\n",
      "Train: Epoch 14, val accuracy: 0.8566218085775374\n",
      "Train: Epoch 15, val accuracy: 0.8536033203370645\n"
     ]
    }
   ],
   "source": [
    "train_csv = ('/content/drive/MyDrive/'\n",
    "             'Проектирование по компьютерным технологиям в механике/'\n",
    "             'hw1/data/train.csv')\n",
    "val_csv = ('/content/drive/MyDrive/'\n",
    "            'Проектирование по компьютерным технологиям в механике/'\n",
    "            'hw1/data/val.csv')\n",
    "test_csv = ('/content/drive/MyDrive/'\n",
    "            'Проектирование по компьютерным технологиям в механике/'\n",
    "            'hw1/data/test.csv')\n",
    "out_csv = ('/content/drive/MyDrive/'\n",
    "           'Проектирование по компьютерным технологиям в механике/'\n",
    "           'hw1/submission.csv')\n",
    "lr = 0.001\n",
    "batch_size = 64\n",
    "num_epoches = 15\n",
    "\n",
    "main(train_csv=train_csv, val_csv=val_csv, test_csv=test_csv, out_csv=out_csv,\n",
    "     lr=lr, batch_size=batch_size, num_epoches=num_epoches)"
   ]
  }
 ],
 "metadata": {
  "accelerator": "GPU",
  "colab": {
   "gpuType": "T4",
   "provenance": []
  },
  "kernelspec": {
   "display_name": "Python 3 (ipykernel)",
   "language": "python",
   "name": "python3"
  },
  "language_info": {
   "codemirror_mode": {
    "name": "ipython",
    "version": 3
   },
   "file_extension": ".py",
   "mimetype": "text/x-python",
   "name": "python",
   "nbconvert_exporter": "python",
   "pygments_lexer": "ipython3",
   "version": "3.11.1"
  }
 },
 "nbformat": 4,
 "nbformat_minor": 1
}
